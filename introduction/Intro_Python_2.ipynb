{
 "cells": [
  {
   "cell_type": "markdown",
   "metadata": {},
   "source": [
    "<h1 align=\"center\">Introduction to Python 2</h1>"
   ]
  },
  {
   "cell_type": "markdown",
   "metadata": {},
   "source": [
    "## Summary:\n",
    "\n",
    "    This notebook is designed to help you start working with Python 2 touching following topics:\n",
    "- **Variables** \n",
    "- **Operations** \n",
    "- **Input/Outputs**\n",
    "- **Functions**\n",
    "- **Lists**\n",
    "- **Using packages**"
   ]
  },
  {
   "cell_type": "markdown",
   "metadata": {},
   "source": [
    "## 1. Variables"
   ]
  },
  {
   "cell_type": "code",
   "execution_count": 1,
   "metadata": {
    "collapsed": true
   },
   "outputs": [],
   "source": [
    "a = 2\n",
    "b = \"python\""
   ]
  },
  {
   "cell_type": "markdown",
   "metadata": {},
   "source": [
    "`a` is a number, `b` is a string.  \n",
    "We press `Shift-Enter` to execute the cell.  "
   ]
  },
  {
   "cell_type": "code",
   "execution_count": 2,
   "metadata": {
    "collapsed": true
   },
   "outputs": [],
   "source": [
    "c = a * a"
   ]
  },
  {
   "cell_type": "markdown",
   "metadata": {},
   "source": [
    "`c` holds the result of multiplication of `a` by `a`, which is another number. Let's see what `c` holds..."
   ]
  },
  {
   "cell_type": "code",
   "execution_count": 3,
   "metadata": {
    "collapsed": false
   },
   "outputs": [
    {
     "name": "stdout",
     "output_type": "stream",
     "text": [
      "4\n"
     ]
    }
   ],
   "source": [
    "print c"
   ]
  },
  {
   "cell_type": "markdown",
   "metadata": {},
   "source": [
    "`print` is a built-in python function that prints its.  \n",
    "In addition to `print`, there are many built-in functions, to read about these built-in functions, check: https://docs.python.org/2.7/library/functions.html"
   ]
  },
  {
   "cell_type": "markdown",
   "metadata": {},
   "source": [
    "Let's make a little more complicated `print` call, \"`,`\" separates arguments in function calls, `print` function automatically handles multiple arugments:"
   ]
  },
  {
   "cell_type": "code",
   "execution_count": 4,
   "metadata": {
    "collapsed": false
   },
   "outputs": [
    {
     "name": "stdout",
     "output_type": "stream",
     "text": [
      "2 times 2 is equal to 4\n"
     ]
    }
   ],
   "source": [
    "print a, \"times\", a, \"is equal to\", c"
   ]
  },
  {
   "cell_type": "markdown",
   "metadata": {},
   "source": [
    "Alternatively, we can append words together with `+` and then print as a single arugment. For example:"
   ]
  },
  {
   "cell_type": "code",
   "execution_count": 5,
   "metadata": {
    "collapsed": false
   },
   "outputs": [
    {
     "name": "stdout",
     "output_type": "stream",
     "text": [
      "this notebook is based on python 2\n"
     ]
    }
   ],
   "source": [
    "print \"this notebook is based on \" + b + \" 2\""
   ]
  },
  {
   "cell_type": "markdown",
   "metadata": {},
   "source": [
    "Let's use this approach to print our result again:"
   ]
  },
  {
   "cell_type": "code",
   "execution_count": 7,
   "metadata": {
    "collapsed": false
   },
   "outputs": [
    {
     "ename": "TypeError",
     "evalue": "unsupported operand type(s) for +: 'int' and 'str'",
     "output_type": "error",
     "traceback": [
      "\u001b[0;31m---------------------------------------------------------------------------\u001b[0m",
      "\u001b[0;31mTypeError\u001b[0m                                 Traceback (most recent call last)",
      "\u001b[0;32m<ipython-input-7-5e23ef3379dc>\u001b[0m in \u001b[0;36m<module>\u001b[0;34m()\u001b[0m\n\u001b[0;32m----> 1\u001b[0;31m \u001b[0;32mprint\u001b[0m \u001b[0ma\u001b[0m \u001b[0;34m+\u001b[0m \u001b[0;34m\" times \"\u001b[0m \u001b[0;34m+\u001b[0m \u001b[0ma\u001b[0m \u001b[0;34m+\u001b[0m \u001b[0;34m\"is equal to: \"\u001b[0m \u001b[0;34m+\u001b[0m \u001b[0mc\u001b[0m\u001b[0;34m\u001b[0m\u001b[0m\n\u001b[0m",
      "\u001b[0;31mTypeError\u001b[0m: unsupported operand type(s) for +: 'int' and 'str'"
     ]
    }
   ],
   "source": [
    "print a + \" times \" + a + \"is equal to: \" + c"
   ]
  },
  {
   "cell_type": "markdown",
   "metadata": {},
   "source": [
    "Python is dynamically typed, meaning you don't have to declare variables with their types in front of them as in most C-like languges like:  \n",
    "`int a = 3`  \n",
    "`char[] b = \"python\"` or `String b = \"python\"`\n",
    "\n",
    "instead, you just type the variable name on the left hand side and the thing that is assigned on the right hand side. \n",
    "\n",
    "However, dynamic typing doesn't mean there are no types. As seen above, using the `+` operator on a number (`int`) and on a string (`str`) causes an error called `TypeError`.\n",
    "\n",
    "One solution to this is to first convert everything to a string by using `str()`, which is another built-in function like `print`. `str()` converts things to `str`\n",
    "\n",
    "Without further ado, let's have a nice output using `str()`:"
   ]
  },
  {
   "cell_type": "code",
   "execution_count": 8,
   "metadata": {
    "collapsed": false
   },
   "outputs": [
    {
     "name": "stdout",
     "output_type": "stream",
     "text": [
      "2 times 2 is equal to 4\n"
     ]
    }
   ],
   "source": [
    "# Converting numbers a and c to string first and then appending should work.\n",
    "print str(a) + \" times \" + str(a) + \" is equal to \" + str(c)"
   ]
  },
  {
   "cell_type": "markdown",
   "metadata": {},
   "source": [
    "As the comment with `#` predicts, `print` now behaves as expected. Whatever text that is preceded on the same line with `#` is treated as `comment` by Python, and is not run as code. Comments are useful in explaining non-trivial code, but with jupyter notebook note cells like this one, it is less critical."
   ]
  },
  {
   "cell_type": "markdown",
   "metadata": {},
   "source": [
    "## 2. Operations:"
   ]
  },
  {
   "cell_type": "code",
   "execution_count": 9,
   "metadata": {
    "collapsed": false,
    "scrolled": true
   },
   "outputs": [
    {
     "name": "stdout",
     "output_type": "stream",
     "text": [
      "Variable   Type    Data/Info\n",
      "----------------------------\n",
      "a          int     2\n",
      "b          str     python\n",
      "c          int     4\n"
     ]
    }
   ],
   "source": [
    "whos"
   ]
  },
  {
   "cell_type": "markdown",
   "metadata": {},
   "source": [
    "Typing `whos` and executing the cell shows currently assigned variables."
   ]
  },
  {
   "cell_type": "markdown",
   "metadata": {},
   "source": [
    "In python 2 `/` is used for integer division."
   ]
  },
  {
   "cell_type": "code",
   "execution_count": 10,
   "metadata": {
    "collapsed": false
   },
   "outputs": [
    {
     "data": {
      "text/plain": [
       "0"
      ]
     },
     "execution_count": 10,
     "metadata": {},
     "output_type": "execute_result"
    }
   ],
   "source": [
    "a / c"
   ]
  },
  {
   "cell_type": "markdown",
   "metadata": {},
   "source": [
    "To get the \"True\" division either `a` or `c` must be float.  \n",
    "Note: this is different in Python 3."
   ]
  },
  {
   "cell_type": "code",
   "execution_count": 11,
   "metadata": {
    "collapsed": false,
    "scrolled": true
   },
   "outputs": [
    {
     "data": {
      "text/plain": [
       "0.5"
      ]
     },
     "execution_count": 11,
     "metadata": {},
     "output_type": "execute_result"
    }
   ],
   "source": [
    "a / float(c)"
   ]
  },
  {
   "cell_type": "markdown",
   "metadata": {},
   "source": [
    "In jupyter notebook, you can use the previous cell's result without assigning it to anything with `_`, let's see how it works:"
   ]
  },
  {
   "cell_type": "code",
   "execution_count": 12,
   "metadata": {
    "collapsed": false
   },
   "outputs": [
    {
     "data": {
      "text/plain": [
       "True"
      ]
     },
     "execution_count": 12,
     "metadata": {},
     "output_type": "execute_result"
    }
   ],
   "source": [
    "_ == 0.5"
   ]
  },
  {
   "cell_type": "markdown",
   "metadata": {},
   "source": [
    "In the cell above, we verified that `a/float(c)` equals `0.5`. The result is another very commonly encountered type, it is a boolean (`bool`). In addition to equality, there are 5 more comparison operators (`!=`, `<=`, `>=`, `<`, `>`), `not` is used for negation:"
   ]
  },
  {
   "cell_type": "code",
   "execution_count": 13,
   "metadata": {
    "collapsed": false
   },
   "outputs": [],
   "source": [
    "d = not True"
   ]
  },
  {
   "cell_type": "code",
   "execution_count": 14,
   "metadata": {
    "collapsed": false
   },
   "outputs": [
    {
     "name": "stdout",
     "output_type": "stream",
     "text": [
      "True or False\n"
     ]
    }
   ],
   "source": [
    "# Let's combine our booleans with print()\n",
    "print not d, \"or\", d"
   ]
  },
  {
   "cell_type": "markdown",
   "metadata": {},
   "source": [
    "There is also another useful operator: `%`, which gives the remainder of a division, e.g. the remainder of `a/b` is equal to `a%b`"
   ]
  },
  {
   "cell_type": "code",
   "execution_count": 15,
   "metadata": {
    "collapsed": false
   },
   "outputs": [
    {
     "name": "stdout",
     "output_type": "stream",
     "text": [
      "The remainder of 5/3 is 2\n"
     ]
    }
   ],
   "source": [
    "print \"The remainder of 5/3 is\", 5%3"
   ]
  },
  {
   "cell_type": "markdown",
   "metadata": {},
   "source": [
    "## 3. Input/Output:"
   ]
  },
  {
   "cell_type": "markdown",
   "metadata": {},
   "source": [
    "One way to get input from user is via built-in function, `raw_input()`.  \n",
    "Let's assign the input to a variable named `user_name` and print it."
   ]
  },
  {
   "cell_type": "code",
   "execution_count": 18,
   "metadata": {
    "collapsed": false
   },
   "outputs": [
    {
     "name": "stdout",
     "output_type": "stream",
     "text": [
      "What is your name? Mete\n",
      "Hello, Mete!\n"
     ]
    }
   ],
   "source": [
    "user_name = raw_input(\"What is your name? \")\n",
    "print \"Hello, \" + user_name + \"!\""
   ]
  },
  {
   "cell_type": "markdown",
   "metadata": {},
   "source": [
    "## 4. Functions:"
   ]
  },
  {
   "cell_type": "markdown",
   "metadata": {},
   "source": [
    "Functions are very easy to define in Python and very useful in writing modular programs. The important keyword to know in defining functions is `def`. Let's define a function that squares a number, named `sqr()`. When defining the function, the parentheses are used to include the parameters, and the keyword `return` is used to return the result. Here, the only parameter is `n` a number."
   ]
  },
  {
   "cell_type": "code",
   "execution_count": 19,
   "metadata": {
    "collapsed": true
   },
   "outputs": [],
   "source": [
    "def sqr(n):\n",
    "    result = n**2\n",
    "    return result"
   ]
  },
  {
   "cell_type": "markdown",
   "metadata": {},
   "source": [
    "Now that the function is defined and the cell is executed, let's use it!"
   ]
  },
  {
   "cell_type": "code",
   "execution_count": 20,
   "metadata": {
    "collapsed": false
   },
   "outputs": [
    {
     "name": "stdout",
     "output_type": "stream",
     "text": [
      "The square of 6 is 36\n"
     ]
    }
   ],
   "source": [
    "x = 6\n",
    "print \"The square of\", x, \"is\", sqr(x)"
   ]
  },
  {
   "cell_type": "markdown",
   "metadata": {},
   "source": [
    "How about factorial, let's define a function that takes the factorial of a number. For that, we will need to use the `for` keyword and the `range` function. Let's try..."
   ]
  },
  {
   "cell_type": "code",
   "execution_count": 21,
   "metadata": {
    "collapsed": true
   },
   "outputs": [],
   "source": [
    "def factorial(n):\n",
    "    result = 1\n",
    "    for i in range(n):\n",
    "        result = result * i\n",
    "    return result"
   ]
  },
  {
   "cell_type": "code",
   "execution_count": 22,
   "metadata": {
    "collapsed": false
   },
   "outputs": [
    {
     "name": "stdout",
     "output_type": "stream",
     "text": [
      "0\n"
     ]
    }
   ],
   "source": [
    "print(factorial(4))"
   ]
  },
  {
   "cell_type": "markdown",
   "metadata": {},
   "source": [
    "Oops, `factorial(4)` should be `24`, not `0`. We are initializing the `result` variable to 1. So, what is wrong? Let's see what `for i in range(n)` does."
   ]
  },
  {
   "cell_type": "code",
   "execution_count": 23,
   "metadata": {
    "collapsed": false
   },
   "outputs": [
    {
     "name": "stdout",
     "output_type": "stream",
     "text": [
      "0\n",
      "1\n",
      "2\n",
      "3\n"
     ]
    }
   ],
   "source": [
    "for i in range(4):\n",
    "    print i"
   ]
  },
  {
   "cell_type": "markdown",
   "metadata": {},
   "source": [
    "Now we see that `for i in range(4)` is actually pretty close to what we want but not exactly, it is off by one. "
   ]
  },
  {
   "cell_type": "markdown",
   "metadata": {},
   "source": [
    "Python, unlike Matlab and Fortran, like C and Java, uses zero-based indexing:\n",
    "In addition to that, the `range()` function's stopping parameter is exclusive. Thus, `4` is not included.\n",
    "If given two arguments into `range()`, the first argument will be inferred as the starting number (inclusive).\n",
    "Let's fix our `factorial()` function and redefine it."
   ]
  },
  {
   "cell_type": "code",
   "execution_count": 24,
   "metadata": {
    "collapsed": true
   },
   "outputs": [],
   "source": [
    "def factorial(n):\n",
    "    result = 1\n",
    "    for i in range(1, n + 1):\n",
    "        result = result * i\n",
    "    return result"
   ]
  },
  {
   "cell_type": "code",
   "execution_count": 25,
   "metadata": {
    "collapsed": false
   },
   "outputs": [
    {
     "name": "stdout",
     "output_type": "stream",
     "text": [
      "24\n"
     ]
    }
   ],
   "source": [
    "print(factorial(4))"
   ]
  },
  {
   "cell_type": "markdown",
   "metadata": {},
   "source": [
    "Now it is working! How about `0!` ? Let's see..."
   ]
  },
  {
   "cell_type": "code",
   "execution_count": 26,
   "metadata": {
    "collapsed": false
   },
   "outputs": [
    {
     "name": "stdout",
     "output_type": "stream",
     "text": [
      "1\n"
     ]
    }
   ],
   "source": [
    "print(factorial(0))"
   ]
  },
  {
   "cell_type": "markdown",
   "metadata": {},
   "source": [
    "Yep, still working. How about `-1!` ?"
   ]
  },
  {
   "cell_type": "code",
   "execution_count": 28,
   "metadata": {
    "collapsed": false
   },
   "outputs": [
    {
     "name": "stdout",
     "output_type": "stream",
     "text": [
      "1\n"
     ]
    }
   ],
   "source": [
    "print(factorial(-1))"
   ]
  },
  {
   "cell_type": "markdown",
   "metadata": {},
   "source": [
    "Well, this is false. In the scope of this example, the result should be undefined. Let's return `NaN`, not a number when the input is negative. For this, we will need an `if` statement to check whether the input is negative or not, if the input is negative, we should return `NaN`, by converting the string `NaN` to a float using the built-in `float` function. Let's redefine `factorial()` once again..."
   ]
  },
  {
   "cell_type": "code",
   "execution_count": 29,
   "metadata": {
    "collapsed": true
   },
   "outputs": [],
   "source": [
    "def factorial(n):\n",
    "    if n < 0: return float(\"NaN\")\n",
    "    result = 1\n",
    "    for i in range(1, n + 1):\n",
    "        result = result * i\n",
    "    return result"
   ]
  },
  {
   "cell_type": "code",
   "execution_count": 30,
   "metadata": {
    "collapsed": false
   },
   "outputs": [
    {
     "name": "stdout",
     "output_type": "stream",
     "text": [
      "nan\n"
     ]
    }
   ],
   "source": [
    "print(factorial(-1))"
   ]
  },
  {
   "cell_type": "markdown",
   "metadata": {},
   "source": [
    "## 5. Lists:"
   ]
  },
  {
   "cell_type": "markdown",
   "metadata": {},
   "source": [
    "Lists are essential.   \n",
    "We already used lists without mentioning them. The `range()` function, in Python 2, returns a list. "
   ]
  },
  {
   "cell_type": "code",
   "execution_count": 31,
   "metadata": {
    "collapsed": false
   },
   "outputs": [
    {
     "name": "stdout",
     "output_type": "stream",
     "text": [
      "[3, 4, 5, 6, 7, 8, 9]\n"
     ]
    }
   ],
   "source": [
    "print range(3, 10) "
   ]
  },
  {
   "cell_type": "markdown",
   "metadata": {},
   "source": [
    "Let's create our own list and play with it"
   ]
  },
  {
   "cell_type": "code",
   "execution_count": 32,
   "metadata": {
    "collapsed": false
   },
   "outputs": [
    {
     "name": "stdout",
     "output_type": "stream",
     "text": [
      "[2, 3, 5, 7]\n",
      "The first element of our list is 2\n",
      "The second element of our list is 3\n",
      "The last element of our list is 7\n"
     ]
    }
   ],
   "source": [
    "nums = [2, 3, 5, 7]\n",
    "print nums\n",
    "print \"The first element of our list is \" + str(nums[0])\n",
    "print \"The second element of our list is \" + str(nums[1])\n",
    "print \"The last element of our list is \" + str(nums[-1])"
   ]
  },
  {
   "cell_type": "markdown",
   "metadata": {},
   "source": [
    "Iteration in lists are supereasy:"
   ]
  },
  {
   "cell_type": "code",
   "execution_count": 33,
   "metadata": {
    "collapsed": false
   },
   "outputs": [
    {
     "name": "stdout",
     "output_type": "stream",
     "text": [
      "2\n",
      "3\n",
      "5\n",
      "7\n"
     ]
    }
   ],
   "source": [
    "for i in nums:\n",
    "    print i"
   ]
  },
  {
   "cell_type": "markdown",
   "metadata": {},
   "source": [
    "List is an object. Objects have member methods. You can use these methods to either get an information about the list or to modify (mutate) the list. Let's call some of the most important methods on our `nums` list."
   ]
  },
  {
   "cell_type": "code",
   "execution_count": 34,
   "metadata": {
    "collapsed": false
   },
   "outputs": [
    {
     "name": "stdout",
     "output_type": "stream",
     "text": [
      "[7, 5, 3, 2]\n"
     ]
    }
   ],
   "source": [
    "nums.reverse() # Should be reversed now\n",
    "print nums\n",
    "nums.reverse() # Back to original"
   ]
  },
  {
   "cell_type": "code",
   "execution_count": 35,
   "metadata": {
    "collapsed": false
   },
   "outputs": [
    {
     "name": "stdout",
     "output_type": "stream",
     "text": [
      "[13, 2, 3, 5, 7, 11]\n"
     ]
    }
   ],
   "source": [
    "nums.append(11) # Adding 11 to the end of the list.\n",
    "nums.insert(0, 13) # Adding 13 to the beginning of the list\n",
    "print(nums)"
   ]
  },
  {
   "cell_type": "code",
   "execution_count": 36,
   "metadata": {
    "collapsed": false
   },
   "outputs": [
    {
     "name": "stdout",
     "output_type": "stream",
     "text": [
      "[2, 3, 5, 7, 11, 13]\n"
     ]
    }
   ],
   "source": [
    "nums.sort() # Should be sorted now\n",
    "print(nums)"
   ]
  },
  {
   "cell_type": "code",
   "execution_count": 37,
   "metadata": {
    "collapsed": false
   },
   "outputs": [
    {
     "name": "stdout",
     "output_type": "stream",
     "text": [
      "5\n"
     ]
    }
   ],
   "source": [
    "print(nums.index(13)) # Print the index of the first occurence of 13"
   ]
  },
  {
   "cell_type": "markdown",
   "metadata": {},
   "source": [
    "You can also check whether a number is in a list using the operator `in` and also get the length of a list using the built-in function `len()`. Note that these are not member methods, so we don't call them using the `nums.method()` syntax."
   ]
  },
  {
   "cell_type": "code",
   "execution_count": 38,
   "metadata": {
    "collapsed": false
   },
   "outputs": [
    {
     "name": "stdout",
     "output_type": "stream",
     "text": [
      "True\n"
     ]
    }
   ],
   "source": [
    "print 3 in nums"
   ]
  },
  {
   "cell_type": "code",
   "execution_count": 39,
   "metadata": {
    "collapsed": false
   },
   "outputs": [
    {
     "name": "stdout",
     "output_type": "stream",
     "text": [
      "False\n"
     ]
    }
   ],
   "source": [
    "print 17 in nums"
   ]
  },
  {
   "cell_type": "code",
   "execution_count": 40,
   "metadata": {
    "collapsed": false
   },
   "outputs": [
    {
     "name": "stdout",
     "output_type": "stream",
     "text": [
      "6\n"
     ]
    }
   ],
   "source": [
    "print len(nums)"
   ]
  },
  {
   "cell_type": "markdown",
   "metadata": {},
   "source": [
    "The operator `+` has a special meaning in the context of lists. You can append two lists and create a new list with `+`. Let's append a range of numbers to our list and sort it."
   ]
  },
  {
   "cell_type": "code",
   "execution_count": 41,
   "metadata": {
    "collapsed": false
   },
   "outputs": [
    {
     "name": "stdout",
     "output_type": "stream",
     "text": [
      "[2, 3, 5, 7, 11, 13] + [9, 10, 11, 12, 13, 14, 15] =\n",
      "\t\t[2, 3, 5, 7, 11, 13, 9, 10, 11, 12, 13, 14, 15]\n",
      "Once sorted ==> [2, 3, 5, 7, 9, 10, 11, 11, 12, 13, 13, 14, 15]\n"
     ]
    }
   ],
   "source": [
    "nums = [2, 3, 5, 7, 11, 13]\n",
    "print nums ,'+', list(range(9, 16)), '=\\n\\t\\t' ,nums + list(range(9, 16))\n",
    "nums = nums + list(range(9, 16))\n",
    "nums.sort()\n",
    "print \"Once sorted ==>\", nums"
   ]
  },
  {
   "cell_type": "markdown",
   "metadata": {},
   "source": [
    "Here is our new list, there are some repetitions and that's ok. Let's see how many 11s there are:"
   ]
  },
  {
   "cell_type": "code",
   "execution_count": 42,
   "metadata": {
    "collapsed": false
   },
   "outputs": [
    {
     "name": "stdout",
     "output_type": "stream",
     "text": [
      "2\n"
     ]
    }
   ],
   "source": [
    "print nums.count(11) # Should print 2, which is the number of 11s in the list."
   ]
  },
  {
   "cell_type": "markdown",
   "metadata": {},
   "source": [
    "In addition to the `list`, there are a few more frequently used data structures, `tuple`, `set`, and `dict`. Take a look at https://docs.python.org/2.7/tutorial/datastructures.html for information about them and more. List comprehensions is also another interesting topic that is presented on that link."
   ]
  },
  {
   "cell_type": "markdown",
   "metadata": {},
   "source": [
    "We can combine our knowledge in defining functions and lists. Let's define a function that returns a new list that contains the squared elements of the original input list. We will use the function `sqr()` we defined previously."
   ]
  },
  {
   "cell_type": "code",
   "execution_count": 43,
   "metadata": {
    "collapsed": true
   },
   "outputs": [],
   "source": [
    "def square_list(ns):\n",
    "    result = []\n",
    "    for n in ns:\n",
    "        result.append(sqr(n))\n",
    "    return result"
   ]
  },
  {
   "cell_type": "code",
   "execution_count": 44,
   "metadata": {
    "collapsed": false
   },
   "outputs": [
    {
     "name": "stdout",
     "output_type": "stream",
     "text": [
      "[4, 9, 25, 49, 121]\n"
     ]
    }
   ],
   "source": [
    "print(square_list([2, 3, 5, 7, 11]))"
   ]
  },
  {
   "cell_type": "markdown",
   "metadata": {},
   "source": [
    "## 6. Using packages, i.e. a short numpy example:"
   ]
  },
  {
   "cell_type": "markdown",
   "metadata": {},
   "source": [
    "Packages are very useful in simplifying/cleaning the code. Most of the time, instead of reinventing the wheel, it is a good idea to check whether a function you are planning to implement already exists in a package. NumPy is a great package for scientific computing. Let's use numpy instead of our `square_list()`. In order to use a package, we first need to import it."
   ]
  },
  {
   "cell_type": "code",
   "execution_count": 45,
   "metadata": {
    "collapsed": false
   },
   "outputs": [
    {
     "name": "stdout",
     "output_type": "stream",
     "text": [
      "1.0\n"
     ]
    }
   ],
   "source": [
    "# This imports package numpy into current program's namespace. \n",
    "# Now, numpy functions can be accessed using the dot notation with numpy.method_name().\n",
    "import numpy \n",
    "print numpy.cos(0.0)"
   ]
  },
  {
   "cell_type": "code",
   "execution_count": 46,
   "metadata": {
    "collapsed": false
   },
   "outputs": [
    {
     "name": "stdout",
     "output_type": "stream",
     "text": [
      "1.0\n"
     ]
    }
   ],
   "source": [
    "# If you are going to use a package often, you can simplify the namespace using \"as\" keyword\n",
    "import numpy as np\n",
    "print np.cos(0.0) # Now, np stands for NumPy package's namespace."
   ]
  },
  {
   "cell_type": "code",
   "execution_count": 47,
   "metadata": {
    "collapsed": false
   },
   "outputs": [
    {
     "name": "stdout",
     "output_type": "stream",
     "text": [
      "[4, 9, 25, 49, 121]\n"
     ]
    }
   ],
   "source": [
    "# Using numpy instead of square list:\n",
    "squared_numpy_array = np.square([2, 3, 5, 7, 11])\n",
    "# Numpy functions, when applied to lists, return numpy arrays.\n",
    "# numpy arrays are different than lists.\n",
    "squared_list = list(squared_numpy_array)\n",
    "# Using the list() function converts the numpy array to list, now let's print it\n",
    "print squared_list"
   ]
  },
  {
   "cell_type": "markdown",
   "metadata": {},
   "source": [
    "Python has a standard set of packages coming with every basic Python installation. These packages belong to the standard library. Python's standard library is very extensive, and Python described as a \"Batteries Included\" language thanks to those packages. To get more information about those libraries, check: https://docs.python.org/2.7/library/\n",
    "\n",
    "Sometimes, especially when it comes to scientific computing, image processing, or plotting, some external packages are also needed. NumPy is an external package. It comes bundled with the Anaconda install. To see which packages are bundled and which other packages are supported by Anaconda, check: https://docs.continuum.io/anaconda/pkg-docs."
   ]
  },
  {
   "cell_type": "markdown",
   "metadata": {},
   "source": [
    "## Other topics that might be intersting to you:"
   ]
  },
  {
   "cell_type": "markdown",
   "metadata": {},
   "source": [
    "- Reading/Writing files\n",
    "- List comprehensions\n",
    "- while\n",
    "- List slicing\n",
    "- Classes and objects\n",
    "- Plotting\n",
    "- Detailed scientific computing with numpy and Matlab comparison (https://docs.scipy.org/doc/numpy-dev/user/numpy-for-matlab-users.html)"
   ]
  },
  {
   "cell_type": "markdown",
   "metadata": {
    "collapsed": true
   },
   "source": [
    "## Exercise:\n",
    "\n",
    "[Project Euler Problem 1](https://projecteuler.net/problem=1): \n",
    "If we list all the numbers from 1 to 9 that are multiples of 3 or 5, we get 3, 5, 6 and 9; there are 4 of them.  \n",
    "How many multiples of 3 or 5 are there from 1 to 999?"
   ]
  },
  {
   "cell_type": "code",
   "execution_count": 48,
   "metadata": {
    "collapsed": true
   },
   "outputs": [],
   "source": [
    "def count_multiples_3_and_5(start, stop):\n",
    "    count = 0\n",
    "    for i in range(start, stop + 1):\n",
    "        if i % 3 == 0 or i % 5 == 0:\n",
    "            count = count + 1\n",
    "            #count += 1\n",
    "    return count"
   ]
  },
  {
   "cell_type": "code",
   "execution_count": 49,
   "metadata": {
    "collapsed": false
   },
   "outputs": [
    {
     "name": "stdout",
     "output_type": "stream",
     "text": [
      "There are 4 multiples of 3 or 5 from 1 to 9\n"
     ]
    }
   ],
   "source": [
    "start = 1; stop = 9;\n",
    "print \"There are %d multiples of 3 or 5 from %d to %d\" %(count_multiples_3_and_5(start, stop), start, stop)"
   ]
  },
  {
   "cell_type": "code",
   "execution_count": 50,
   "metadata": {
    "collapsed": false
   },
   "outputs": [
    {
     "name": "stdout",
     "output_type": "stream",
     "text": [
      "There are 466 multiples of 3 or 5 from 1 to 999\n"
     ]
    }
   ],
   "source": [
    "start = 1; stop = 999;\n",
    "print \"There are %d multiples of 3 or 5 from %d to %d\" %(count_multiples_3_and_5(start, stop), start, stop)"
   ]
  }
 ],
 "metadata": {
  "kernelspec": {
   "display_name": "Python 2",
   "language": "python",
   "name": "python2"
  },
  "language_info": {
   "codemirror_mode": {
    "name": "ipython",
    "version": 2
   },
   "file_extension": ".py",
   "mimetype": "text/x-python",
   "name": "python",
   "nbconvert_exporter": "python",
   "pygments_lexer": "ipython2",
   "version": "2.7.10"
  }
 },
 "nbformat": 4,
 "nbformat_minor": 0
}
