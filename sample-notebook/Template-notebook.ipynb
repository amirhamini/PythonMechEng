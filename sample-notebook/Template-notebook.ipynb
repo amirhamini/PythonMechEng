{
 "cells": [
  {
   "cell_type": "markdown",
   "metadata": {},
   "source": [
    "<h1 align=\"center\">Template</h1>\n",
    "\n",
    "Every notebook starts with a title in the center."
   ]
  },
  {
   "cell_type": "markdown",
   "metadata": {},
   "source": [
    "## Summary: for section fontsize we go with `##`\n",
    "\n",
    "    We start each notebook with a summary section. This section includes a sentence or two that best summarizes the materials, followed by the list of the topics ``covered\" in that notebook (in bold):\n",
    "- **markdown explanations**\n",
    "- **code**"
   ]
  },
  {
   "cell_type": "code",
   "execution_count": null,
   "metadata": {
    "collapsed": true
   },
   "outputs": [],
   "source": []
  }
 ],
 "metadata": {
  "kernelspec": {
   "display_name": "Python 2",
   "language": "python",
   "name": "python2"
  },
  "language_info": {
   "codemirror_mode": {
    "name": "ipython",
    "version": 2
   },
   "file_extension": ".py",
   "mimetype": "text/x-python",
   "name": "python",
   "nbconvert_exporter": "python",
   "pygments_lexer": "ipython2",
   "version": "2.7.10"
  }
 },
 "nbformat": 4,
 "nbformat_minor": 0
}
