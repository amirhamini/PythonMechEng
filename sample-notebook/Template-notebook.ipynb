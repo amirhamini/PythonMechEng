{
 "cells": [
  {
   "cell_type": "markdown",
   "metadata": {},
   "source": [
    "<h1 align=\"center\">Template</h1>\n",
    "\n",
    "Every notebook starts with a title in the center. \n",
    "\n",
    "When inside the ipython notebook, you can double-click on the markdown cell to see the markdown script."
   ]
  },
  {
   "cell_type": "markdown",
   "metadata": {},
   "source": [
    "## Summary: for section fontsize we go with `##`\n",
    "\n",
    "   Start each notebook with a summary section. This section includes a sentence or two (or more) that best summarizes the notebook materials, followed by a list of the topics covered in that notebook (in bold):\n",
    "- **markdown explanations**\n",
    "- **codeing style**\n",
    "- **related topics that you did not cover**\n",
    "- **exercise (if necessary)**\n",
    "- **name and contact of the author(s)**"
   ]
  },
  {
   "cell_type": "markdown",
   "metadata": {
    "collapsed": true
   },
   "source": [
    "## 1. Markdown explanations\n",
    "\n",
    "Markdown is used to create text in an ipython notebook. Many online resources are available to help you start working with markdown, e.g.\n",
    "- [Markdown Cheatsheet](https://github.com/adam-p/markdown-here/wiki/Markdown-Cheatsheet)\n",
    "- [Markdown Wiki](https://en.wikipedia.org/wiki/Markdown)\n",
    "\n",
    "When explaining make sure to\n",
    "- use simple, clear, and short sentences. \n",
    "- talk to the audience (of students). \n",
    "- provide additional (online and free) resources if necessary. \n",
    "\n",
    "Use LaTex blocks for math and equation, e.g.\n",
    "\n",
    "$$\\begin{equation}\n",
    "\\Delta P = \\sigma(\\frac{1}{R_1} + \\frac{1}{R_2})\n",
    "\\end{equation}\n",
    "$$"
   ]
  },
  {
   "cell_type": "markdown",
   "metadata": {},
   "source": [
    "## 2. Coding style\n",
    "\n",
    "- Try your best to follow [pep 8 rules](https://www.python.org/dev/peps/pep-0008/) when writing a python code. \n",
    "- Explain your code in the code block using comments when necessary. \n",
    "- Avoid writing unnecessary long codes and try to shorten your code but make sure that your code is easy to understand.\n",
    "- Divide your code into separate blocks, each block with clear input, output, and task.\n",
    "- Create a function for each block if they make your code easier to understand (they usually do, especially if you pick good names for them.)\n",
    "- Create clear (paper level) plots."
   ]
  },
  {
   "cell_type": "markdown",
   "metadata": {},
   "source": [
    "**Example:**\n",
    "[Project Euler Problem 19](https://projecteuler.net/problem=19)"
   ]
  },
  {
   "cell_type": "code",
   "execution_count": 1,
   "metadata": {
    "collapsed": false
   },
   "outputs": [
    {
     "name": "stdout",
     "output_type": "stream",
     "text": [
      "171\n"
     ]
    }
   ],
   "source": [
    "# Constants used in the problem\n",
    "MONDAY = 0\n",
    "SUNDAY = 6\n",
    "DAYS_IN_A_WEEK = 7\n",
    "FIRST_YEAR = 1900\n",
    "LAST_YEAR = 2001\n",
    "MONTHS_WITH_31_DAYS = [0, 2, 4, 6, 7, 9, 11]\n",
    "MONTHS_WITH_30_DAYS = [3, 5, 8, 10]\n",
    "MONTHS_IN_A_YEAR = 12\n",
    "FIRST_DAY_OF_MONTH = 0\n",
    "\n",
    "# Initialization\n",
    "current_day = MONDAY  # Set the start day to Monday starting from 1 Jan 1900\n",
    "total_sunday_count = 0\n",
    "first_year_sunday_count = 0\n",
    "\n",
    "for year in xrange(FIRST_YEAR, LAST_YEAR):\n",
    "    for month in xrange(MONTHS_IN_A_YEAR):\n",
    "        if month in MONTHS_WITH_31_DAYS:\n",
    "            day_count = 31\n",
    "        elif month in MONTHS_WITH_30_DAYS:\n",
    "            day_count = 30\n",
    "        elif year % 4 == 0 and (year % 100 != 0 or year % 400 == 0):\n",
    "            # Leap year's February\n",
    "            day_count = 29\n",
    "        else:\n",
    "            # Regular year's February\n",
    "            day_count = 28\n",
    "        for day in xrange(day_count):\n",
    "            if current_day == SUNDAY and day == FIRST_DAY_OF_MONTH:\n",
    "                total_sunday_count += 1\n",
    "                if year == FIRST_YEAR:\n",
    "                    first_year_sunday_count += 1\n",
    "            current_day += 1\n",
    "            current_day %= DAYS_IN_A_WEEK  # MONDAY (0) comes after SUNDAY (6)\n",
    "\n",
    "print total_sunday_count - first_year_sunday_count"
   ]
  },
  {
   "cell_type": "markdown",
   "metadata": {},
   "source": [
    "## 3. Related topics that you did not cover\n",
    "\n",
    "If there are topics related to your notebook that are interesting to you but for some reason you decided not to cover them, make sure to mention them and provide some (online and free) resources.  "
   ]
  },
  {
   "cell_type": "markdown",
   "metadata": {},
   "source": [
    "## 4. exercise (if necessary)\n",
    "\n",
    "If it is possible to design a fun and useful exercise regarding the topics you covered in your notebook, please do! You may or may not provide the solution for the exercise but make sure it can be solved using the materials explained in the notebook.   "
   ]
  },
  {
   "cell_type": "markdown",
   "metadata": {},
   "source": [
    "## 5. name and contact of the author(s)\n",
    "\n",
    "Please provide a name or nickname and a contact information (that you are okay with it to be public.)\n",
    "\n",
    "Copy the following format for this section:\n",
    "## This notebook is prepared by\n",
    "\n",
    "- first author's name (or nickname) and first author's contact  \n",
    "- second author's name (or nickname) and second author's contact  \n",
    "- ..."
   ]
  },
  {
   "cell_type": "code",
   "execution_count": null,
   "metadata": {
    "collapsed": true
   },
   "outputs": [],
   "source": []
  }
 ],
 "metadata": {
  "kernelspec": {
   "display_name": "Python 2",
   "language": "python",
   "name": "python2"
  },
  "language_info": {
   "codemirror_mode": {
    "name": "ipython",
    "version": 2
   },
   "file_extension": ".py",
   "mimetype": "text/x-python",
   "name": "python",
   "nbconvert_exporter": "python",
   "pygments_lexer": "ipython2",
   "version": "2.7.10"
  }
 },
 "nbformat": 4,
 "nbformat_minor": 0
}
